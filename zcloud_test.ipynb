{
 "cells": [
  {
   "cell_type": "code",
   "execution_count": 5,
   "metadata": {},
   "outputs": [],
   "source": [
    "from selenium import webdriver\n",
    "from selenium.webdriver.common.by import By\n",
    "from selenium.webdriver.support.ui import WebDriverWait\n",
    "from selenium.common.exceptions import TimeoutException\n",
    "from selenium.webdriver.support import expected_conditions as EC"
   ]
  },
  {
   "cell_type": "code",
   "execution_count": 6,
   "metadata": {},
   "outputs": [],
   "source": [
    "def login(account=\"test\", password=\"123456\"):\n",
    "    '''账号密码测试'''\n",
    "\n",
    "    # 初始化 WebDriver\n",
    "    driver = webdriver.Edge()\n",
    "\n",
    "    try:\n",
    "        # 访问首页\n",
    "        driver.get(\"http://20.30.1.198:8017/\")\n",
    "\n",
    "        # 使用显示等待查找账号输入框\n",
    "        try:\n",
    "            search_box = WebDriverWait(driver, 60).until(\n",
    "                EC.presence_of_element_located((By.ID, \"account\"))\n",
    "            )\n",
    "            search_box.send_keys(account)\n",
    "        except TimeoutException:\n",
    "            print(\"账号输入框未加载成功\")\n",
    "            return\n",
    "        \n",
    "        # 使用显示等待查找密码输入框\n",
    "        try:\n",
    "            password_box = WebDriverWait(driver, 60).until(\n",
    "                EC.presence_of_element_located((By.ID, \"password\"))\n",
    "            )\n",
    "            password_box.send_keys(password)\n",
    "        except TimeoutException:\n",
    "            print(\"密码输入框未加载成功\")\n",
    "            return\n",
    "        \n",
    "        # 使用显示等待查找登录按钮并点击\n",
    "        try:\n",
    "            search_button = WebDriverWait(driver, 60).until(\n",
    "                EC.element_to_be_clickable((By.XPATH, \"//button[@type='submit']\"))\n",
    "            )\n",
    "            search_button.click()\n",
    "        except TimeoutException:\n",
    "            print(\"登录按钮未加载成功\")\n",
    "            return\n",
    "\n",
    "        # 处理登录后的弹窗\n",
    "        try:\n",
    "            alert = WebDriverWait(driver, 5).until(\n",
    "                EC.alert_is_present()\n",
    "            )\n",
    "            alert_text = alert.text\n",
    "            print(f\"弹窗提示: {alert_text}\")\n",
    "            alert.accept()  # 可以根据需要处理弹窗，或者关闭它\n",
    "        except TimeoutException:\n",
    "            print(\"登录界面测试成功\")\n",
    "\n",
    "    except Exception as e:\n",
    "        print(f\"发生错误: {e}\")\n",
    "    \n",
    "    finally:\n",
    "        driver.quit()\n",
    "\n"
   ]
  },
  {
   "cell_type": "code",
   "execution_count": 7,
   "metadata": {},
   "outputs": [
    {
     "name": "stdout",
     "output_type": "stream",
     "text": [
      "弹窗提示: 用户名或密码错误\n"
     ]
    }
   ],
   "source": [
    "# 错误的账号密码测试\n",
    "account=\"test\"\n",
    "password=\"123456\"\n",
    "login(account, password)"
   ]
  },
  {
   "cell_type": "code",
   "execution_count": 12,
   "metadata": {},
   "outputs": [
    {
     "name": "stdout",
     "output_type": "stream",
     "text": [
      "弹窗提示: 用户名或密码错误\n"
     ]
    }
   ],
   "source": [
    "# 输入账号不输入密码\n",
    "account=\"test\"\n",
    "password=\"\"\n",
    "login(account, password)"
   ]
  },
  {
   "cell_type": "code",
   "execution_count": 11,
   "metadata": {},
   "outputs": [
    {
     "name": "stdout",
     "output_type": "stream",
     "text": [
      "弹窗提示: 用户名或密码错误\n"
     ]
    }
   ],
   "source": [
    "# 输入账号不输入密码\n",
    "account=\"\"\n",
    "password=\"z123456\"\n",
    "login(account, password)"
   ]
  },
  {
   "cell_type": "code",
   "execution_count": 8,
   "metadata": {},
   "outputs": [
    {
     "name": "stdout",
     "output_type": "stream",
     "text": [
      "没有弹窗出现\n"
     ]
    }
   ],
   "source": [
    "# 正确的账号密码测试\n",
    "account=\"test\"\n",
    "password=\"z123456\"\n",
    "login(account, password)"
   ]
  }
 ],
 "metadata": {
  "kernelspec": {
   "display_name": "Python 3",
   "language": "python",
   "name": "python3"
  },
  "language_info": {
   "codemirror_mode": {
    "name": "ipython",
    "version": 3
   },
   "file_extension": ".py",
   "mimetype": "text/x-python",
   "name": "python",
   "nbconvert_exporter": "python",
   "pygments_lexer": "ipython3",
   "version": "3.12.3"
  }
 },
 "nbformat": 4,
 "nbformat_minor": 2
}
