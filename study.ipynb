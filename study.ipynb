{
 "cells": [
  {
   "cell_type": "markdown",
   "metadata": {},
   "source": [
    "## 测试基础\n",
    "1. 单元自动化测试（开发）\n",
    "    - 单元自动化测试是指对软件中的最小可测试单元进行检查和验证\n",
    "2. 接口自动化测试\n",
    "    - Web 应用的接口自动化测试大体分为两类：模块接口测试（开发）和协议接口测试（开发&测试）\n",
    "        - 模块接口测试，主要测试程序模块之间的调用与返回。它主要强调对一个可实现完整功能的类、方法或函数的调用的测试\n",
    "        - 协议接口测试，主要测试对网络传输协议的调用，如 HTTP/SOAP 等，一般应用在前端和后端开发之间，以及不同项目之间\n",
    "3. UI 自动化测试（测试）\n",
    "    - UI 自动化测试以实现手工测试用例为主，可降低系统功能回归测试的成本"
   ]
  },
  {
   "cell_type": "markdown",
   "metadata": {},
   "source": [
    "## 元素定位\n",
    "\n",
    "1. 标签对 -- html、div 是标签的标签名\n",
    "```\n",
    " <html> </html>\n",
    " <body> </body>\n",
    " <div> </div>\n",
    " <form> </form>\n",
    "```\n",
    "\n",
    "2. 标签属性 -- 就像人也会有各种属性一样，如身份证号（id）、姓名（name）等\n",
    "```\n",
    " <div id=\"head\" class=\"s_down\">\n",
    " <from class=\"well\">\n",
    " <input id=\"kw\" name=\"wd\" class=\"s_ipt\">\n",
    "```\n",
    "\n",
    "3. 标签对之间可以有文本数据\n",
    "```\n",
    " <a>新闻</a>\n",
    " <a>hao123</a>\n",
    " <a>地图</a>\n",
    "```\n",
    "\n",
    "4. 标签有层级关系\n",
    "```\n",
    "    <html>\n",
    "        <body>\n",
    "        </body>\n",
    "    </html>\n",
    "    <div>\n",
    "        <form>\n",
    "            <input />\n",
    "        </form>\n",
    "    <div>\n",
    "```"
   ]
  },
  {
   "cell_type": "markdown",
   "metadata": {},
   "source": [
    "### 定位\n",
    "- id 定位：`find_element(By.ID, \"\")` ：id 在 HTML 文档中必须是唯一的\n",
    "- name 定位：`find_element(By.NAME, \"\")` : name 用来指定元素的名称\n",
    "- class 定位：`find_element(By.CLASS_NAME, \"\")` : class 用来指定元素的类名\n",
    "- tag 定位：`find_element(By.TAG_NAME, \"\")` : tag 来定义不同页面的元素。`<input>`一般用来定义输入框，`<a>`标签用来定义超链接等\n",
    "- link 定位：`find_element(By.LINK_TEXT, \"\")` : link 专门用来定位文本链接\n",
    "- partial link 定位：`find_element(By.PARTIAL_LINK_TEXT, \"\")` : partial link 定位是对 link 定位的一种补充，有些文字链接比较长，这个时候我们可以取文字链接的部分文字进行定位，只要这部分文字可以唯一地标识这个链接即可\n",
    "- XPath 定位：`find_element(By.XPATH, \"\")`：XPath 是一种定位元素的语言\n",
    "    1. 绝对路径定位：`find_element(By.XPATH, \"/html/body/div/div[2]/div/div/div/from/span[2]/input\")`：用标签名的层级关系来定位元素的绝对路径，最外层为 html，在 body 文本内，一级一级往下查找。如果一个层级下有多个相同的标签名，那么就按上下顺序确定是第几个。例如，div[2]表示当前层级下第二个 div 标签\n",
    "    2. 利用元素属性定位\n",
    "        - `find_element(By.XPATH, \"//input[@id='kw']\")`：//input 表示当前页面某个 input 标签，[@id='kw'] 表示这个元素的 id 值是 kw\n",
    "        - `find_element(By.XPATH, \"\"//*[@name='wd']\")`：如果不想指定标签名，那么可以用星号（*）代替\n",
    "    3. 层级与属性结合:如果一个元素本身没有可以唯一标识这个元素的属性值，那么我们可以查找其上一级元素。如果它的上一级元素有可以唯一标识属性的值，就可以拿来使用\n",
    "        - `find_element(By.XPATH, \"//span[@class='s_ipt_wr']/input\")`：span[@class='s_ipt_wr'] 通过 class 定位到父元素，后面的/input 表示父元素下面的子元素\n",
    "    4. 使用逻辑运算符:如果一个属性不能唯一区分一个元素，那么我们可以使用逻辑运算符连接多个属性来查找元素\n",
    "        - `find_element(By.XPATH, \"//input[@id='kw' and @class='s_ipt']\")`：and 表示必须满足两个条件来定位元素\n",
    "    5. 使用 contains 方法：contains 方法用于匹配一个属性中包含的字符串\n",
    "        - `find_element(By.XPATH, \"//span[contains(@calss,'s_ipt_wr')]/input\")`：例如 span 标签的 class 属性为“bg s_ipt_wr”，contains 方法只取了 class 属性中的“s_ipt_wr”部分。\n",
    "    6. 使用 text()方法：text()方法用于匹配显示文本信息\n",
    "        - `find_element(By.XPATH, \"//a[text(),'新闻')]\")`\n",
    "        - `find_element(By.XPATH, \"//a[contains(text(),'一个很长的')]\")`\n",
    "- CSS 定位：\n",
    "    1. 通过 class 定位：点号（.）表示通过 class 来定位元素：`find_element(By.CSS_SELECTOR, \".s_ipt\")`\n",
    "    2. 通过 id 定位：井号（#）表示通过 id 来定位元素：`find_element(By.CSS_SELECTOR, \"#kw\")`\n",
    "    3. 通过标签名定位：用标签名定位元素时不需要任何符号标识，直接使用标签名即可：`find_element(By.CSS_SELECTOR, \"input\")`\n",
    "    4. 通过标签层级关系定位：`find_element(By.CSS_SELECTOR, \"span > input\")`：这种写法表示有父元素，父元素的标签名为 span。查找 span 中所有标签名为input 的子元素\n",
    "    5. 通过属性定位：`find_element(By.CSS_SELECTOR, \"[autocomplete=off]\")`：在 CSS 中可以使用元素的任意属性定位，只要这些属性可以唯一标识这个元素。对属性值来说，可以加引号，也可以不加，注意和整个字符串的引号进行区分\n",
    "    6. 组合定位：`find_element(By.CSS_SELECTOR, \"form.fm > span > input.s_ipt\")`：元素标签名为 input，这个元素的 class 属性为 s_ipt；并且它有一个父元素，标签名为 span。它的父元素还有父元素，标签名为 form，class 属性为 fm。\n",
    "    7. 更多定位用法：\n",
    "        - `find_element(By.CSS_SELECTOR, \"[class*=s_ipt_wr]\")`：查找 class 属性包含“s_ipt_wr”字符串的元素\n",
    "        - `find_element(By.CSS_SELECTOR, \"[class^=bg]\")`：查找 class 属性以“bg”字符串开头的元素\n",
    "        - `find_element(By.CSS_SELECTOR, \"[class$=wrap]\")`：查找 class 属性以“wrap”字符串结尾的元素\n",
    "        - `find_element(By.CSS_SELECTOR, \"form > input:nth-child(2)\")`：查找 form 标签下面第 2 个 input 标签的元素\n",
    "        \n",
    "        "
   ]
  },
  {
   "cell_type": "code",
   "execution_count": 17,
   "metadata": {},
   "outputs": [
    {
     "ename": "AttributeError",
     "evalue": "'WebDriver' object has no attribute 'find_element_by_id'",
     "output_type": "error",
     "traceback": [
      "\u001b[1;31m---------------------------------------------------------------------------\u001b[0m",
      "\u001b[1;31mAttributeError\u001b[0m                            Traceback (most recent call last)",
      "Cell \u001b[1;32mIn[17], line 9\u001b[0m\n\u001b[0;32m      6\u001b[0m driver \u001b[38;5;241m=\u001b[39m webdriver\u001b[38;5;241m.\u001b[39mChrome()\n\u001b[0;32m      7\u001b[0m driver\u001b[38;5;241m.\u001b[39mget(\u001b[38;5;124m\"\u001b[39m\u001b[38;5;124mhttps://www.baidu.com\u001b[39m\u001b[38;5;124m\"\u001b[39m)\n\u001b[1;32m----> 9\u001b[0m \u001b[43mdriver\u001b[49m\u001b[38;5;241;43m.\u001b[39;49m\u001b[43mfind_element_by_id\u001b[49m(\u001b[38;5;124m\"\u001b[39m\u001b[38;5;124mkw\u001b[39m\u001b[38;5;124m\"\u001b[39m)\u001b[38;5;241m.\u001b[39msend_keys(\u001b[38;5;124m\"\u001b[39m\u001b[38;5;124mSelenium\u001b[39m\u001b[38;5;124m\"\u001b[39m)\n\u001b[0;32m     10\u001b[0m driver\u001b[38;5;241m.\u001b[39mfind_element_by_id(\u001b[38;5;124m\"\u001b[39m\u001b[38;5;124msu\u001b[39m\u001b[38;5;124m\"\u001b[39m)\u001b[38;5;241m.\u001b[39mclick()\n",
      "\u001b[1;31mAttributeError\u001b[0m: 'WebDriver' object has no attribute 'find_element_by_id'"
     ]
    }
   ],
   "source": [
    "# 报错原因： find_element_by_id 方法在新版的 Selenium 中已经被弃用。\n",
    "# 解决：应该使用 find_element 方法，并且使用 By 类来指定查找方式\n",
    "\n",
    "from selenium import webdriver\n",
    "\n",
    "driver = webdriver.Chrome()\n",
    "driver.get(\"https://www.baidu.com\")\n",
    "\n",
    "driver.find_element_by_id(\"kw\").send_keys(\"Selenium\")\n",
    "driver.find_element_by_id(\"su\").click()"
   ]
  },
  {
   "cell_type": "code",
   "execution_count": 1,
   "metadata": {},
   "outputs": [],
   "source": [
    "from selenium import webdriver\n",
    "from selenium.webdriver.common.by import By\n",
    "from selenium.webdriver.chrome.service import Service\n",
    "\n",
    "# 初始化 WebDriver\n",
    "driver = webdriver.Chrome()\n",
    "\n",
    "# 访问百度首页\n",
    "driver.get(\"https://www.baidu.com\")\n",
    "\n",
    "# 查找搜索框并输入文本\n",
    "search_box = driver.find_element(By.ID, \"kw\")\n",
    "search_box.send_keys(\"Selenium\")\n",
    "\n",
    "# 查找搜索按钮并点击\n",
    "search_button = driver.find_element(By.ID, \"su\")\n",
    "search_button.click()\n",
    "\n",
    "# 在完成操作后，可以添加适当的等待时间或者处理逻辑\n",
    "driver.quit()  # 在实际使用中通常要在操作完成后关闭浏览器\n"
   ]
  },
  {
   "cell_type": "code",
   "execution_count": 15,
   "metadata": {},
   "outputs": [
    {
     "name": "stdout",
     "output_type": "stream",
     "text": [
      "111\n"
     ]
    }
   ],
   "source": [
    "from selenium.webdriver.support.ui import WebDriverWait\n",
    "from selenium.webdriver.support import expected_conditions as EC\n",
    "\n",
    "# 初始化 WebDriver\n",
    "driver = webdriver.Chrome()\n",
    "\n",
    "# 访问首页\n",
    "driver.get(\"http://zcloud.zhizhuwang.online/\")\n",
    "\n",
    "# 使用显示等待查找搜索框\n",
    "try:\n",
    "    # 账号\n",
    "    search_box = WebDriverWait(driver, 60).until(\n",
    "        EC.presence_of_element_located((By.ID, \"account\"))\n",
    "    )\n",
    "    search_box.send_keys(\"test\")\n",
    "\n",
    "    # 密码\n",
    "    search_box = WebDriverWait(driver, 60).until(\n",
    "        EC.presence_of_element_located((By.ID, \"password\"))\n",
    "    )\n",
    "    search_box.send_keys(\"z123456\")\n",
    "    \n",
    "    # 点击登录\n",
    "    search_button = WebDriverWait(driver, 60).until(\n",
    "        EC.element_to_be_clickable((By.XPATH, \"//button[@type='submit']\"))\n",
    "    )\n",
    "    search_button.click()\n",
    "    \n",
    "finally:\n",
    "    # driver.quit()\n",
    "    print(\"111\")\n",
    "\n"
   ]
  },
  {
   "cell_type": "markdown",
   "metadata": {},
   "source": [
    "## 控制浏览器"
   ]
  },
  {
   "cell_type": "code",
   "execution_count": 4,
   "metadata": {},
   "outputs": [
    {
     "name": "stdout",
     "output_type": "stream",
     "text": [
      "设置浏览器宽 480、高 800 显示\n"
     ]
    }
   ],
   "source": [
    "# 控制浏览器窗口大小\n",
    "from selenium import webdriver\n",
    "\n",
    "driver = webdriver.Chrome()\n",
    "driver.get(\"http://m.baidu.com\")\n",
    "\n",
    "#参数数字为像素\n",
    "print(\"设置浏览器宽 480、高 800 显示\")\n",
    "driver.set_window_size(480, 800)\n",
    "# driver.quit()"
   ]
  },
  {
   "cell_type": "code",
   "execution_count": 7,
   "metadata": {},
   "outputs": [
    {
     "name": "stdout",
     "output_type": "stream",
     "text": [
      "now access http://www.baidu.com\n",
      "now access http://news.baidu.com\n",
      "back to http://www.baidu.com \n",
      "forward to http://news.baidu.com\n"
     ]
    }
   ],
   "source": [
    "# 控制浏览器后退、前进\n",
    "from selenium import webdriver\n",
    "\n",
    "driver = webdriver.Chrome()\n",
    "\n",
    "# 访问百度首页\n",
    "first_url = 'http://www.baidu.com'\n",
    "print(\"now access %s\" %(first_url))\n",
    "driver.get(first_url)\n",
    "\n",
    "# 访问新闻页\n",
    "second_url='http://news.baidu.com'\n",
    "print(\"now access %s\" %(second_url))\n",
    "driver.get(second_url)\n",
    "\n",
    "# 返回（后退）到百度首页\n",
    "print(\"back to %s \" %(first_url))\n",
    "driver.back()\n",
    "\n",
    "# 前进到新闻页\n",
    "print(\"forward to %s\" %(second_url))\n",
    "driver.forward()\n",
    "\n",
    "# driver.quit()"
   ]
  },
  {
   "cell_type": "code",
   "execution_count": 8,
   "metadata": {},
   "outputs": [],
   "source": [
    "# 模拟浏览器刷新\n",
    "driver.refresh() #刷新当前页面"
   ]
  },
  {
   "cell_type": "markdown",
   "metadata": {},
   "source": [
    "## WebDriver 中的常用方法\n",
    "1. clear()：清除文本。\n",
    "2. send_keys(value)：模拟按键输入\n",
    "3. click()：单击元素。\n",
    "4. submit()：提交表单（有些搜索框不提供搜索按钮，而是通过按键盘上的回车键完成搜索内容的提交，这时可以通过 submit()模拟。）\n",
    "5. size：返回元素的尺寸\n",
    "6. text：获取元素的文本\n",
    "7. get_attribute(name)：获得属性值\n",
    "8. is_displayed()：设置该元素是否用户可见"
   ]
  },
  {
   "cell_type": "code",
   "execution_count": 11,
   "metadata": {},
   "outputs": [],
   "source": [
    "from selenium import webdriver\n",
    "from selenium.webdriver.common.by import By\n",
    "\n",
    "driver = webdriver.Chrome()\n",
    "driver.get(\"https://www.baidu.com\")\n",
    "\n",
    "driver.find_element(By.ID, \"kw\").clear()\n",
    "driver.find_element(By.ID, \"kw\").send_keys(\"selenium\")\n",
    "driver.find_element(By.ID, \"su\").click()\n",
    "\n",
    "# driver.quit()"
   ]
  },
  {
   "cell_type": "code",
   "execution_count": 2,
   "metadata": {},
   "outputs": [],
   "source": [
    "from selenium import webdriver\n",
    "from selenium.webdriver.common.by import By\n",
    "\n",
    "driver = webdriver.Chrome()\n",
    "driver.get(\"https://www.baidu.com\")\n",
    "\n",
    "search_text = driver.find_element(By.ID, \"kw\")\n",
    "search_text.send_keys('selenium')\n",
    "search_text.submit()\n",
    "\n",
    "# driver.quit()"
   ]
  },
  {
   "cell_type": "code",
   "execution_count": 6,
   "metadata": {},
   "outputs": [
    {
     "name": "stdout",
     "output_type": "stream",
     "text": [
      "{'height': 43, 'width': 549}\n",
      "京公网安备11000002000001号\n",
      "text\n",
      "True\n"
     ]
    }
   ],
   "source": [
    "from selenium import webdriver\n",
    "from selenium.webdriver.common.by import By\n",
    "\n",
    "driver = webdriver.Chrome()\n",
    "driver.get(\"https://www.baidu.com\")\n",
    "\n",
    "# 获得输入框的尺寸\n",
    "size = driver.find_element(By.ID, \"kw\").size\n",
    "print(size)\n",
    "\n",
    "# 返回百度页面底部备案信息\n",
    "\n",
    "text = driver.find_element(By.XPATH, \"//a[contains(text(),'京公网安备')]\").text\n",
    "print(text)\n",
    "\n",
    "# 返回元素的属性值，可以是 id、name、type 或其他任意属性\n",
    "attribute = driver.find_element(By.ID, \"kw\").get_attribute('type')\n",
    "print(attribute)\n",
    "\n",
    "# 返回元素的结果是否可见，返回结果为 True 或 False\n",
    "result = driver.find_element(By.ID, \"kw\").is_displayed()\n",
    "print(result)"
   ]
  },
  {
   "cell_type": "markdown",
   "metadata": {},
   "source": [
    "## 鼠标操作\n",
    "在 WebDriver 中，与鼠标操作相关的方法都封装在 ActionChains 类中。ActionChains 类提供了鼠标操作的常用方法：\n",
    "- perform()：执行 ActionChains 类中存储的所有行为。\n",
    "- context_click()：右击。\n",
    "- double_click()：双击。\n",
    "- drag_and_drop()：拖动。\n",
    "- move_to_element()：鼠标悬停。"
   ]
  },
  {
   "cell_type": "code",
   "execution_count": 19,
   "metadata": {},
   "outputs": [],
   "source": [
    "from selenium import webdriver\n",
    "from selenium.webdriver.common.by import By\n",
    "from selenium.webdriver.support.ui import WebDriverWait\n",
    "from selenium.webdriver.support import expected_conditions as EC\n",
    "# 引入 ActionChains 类\n",
    "from selenium.webdriver import ActionChains\n",
    "\n",
    "driver = webdriver.Chrome()\n",
    "driver.get(\"https://www.baidu.cn\")\n",
    "\n",
    "# 定位到要悬停的元素\n",
    "# above = driver.find_element(By.XPATH, \"//div[@class='open-content-info']/span\")  # 报错通常与页面的动态加载或元素的存在状态有关，需要等待元素加载出来\n",
    "above = WebDriverWait(driver, 10).until(\n",
    "    EC.presence_of_element_located((By.XPATH, \"//div[@class='open-content-info']/span\"))\n",
    ")\n",
    "\n",
    "\n",
    "# 对定位到的元素执行鼠标悬停操作\n",
    "'''\n",
    "ActionChains(driver)  # 调用 ActionChains 类，把浏览器驱动 driver 作为参数传入\n",
    "move_to_element(above)  # move_to_element()方法用于模拟鼠标移动到元素上，在调用时需要指定元素\n",
    "perform()  # 提交所有 ActionChains 类中存储的行为\n",
    "'''\n",
    "ActionChains(driver).move_to_element(above).perform()\n"
   ]
  },
  {
   "cell_type": "markdown",
   "metadata": {},
   "source": [
    "## 键盘操作\n",
    "\n",
    "- `send_keys(Keys.BACK_SPACE)`：删除键（BackSpace）\n",
    "- `send_keys(Keys.SPACE)`：空格键（Space）\n",
    "- `send_keys(Keys.TAB)`：制表键（Tab）\n",
    "- `send_keys(Keys.ESCAPE)`：回退键（Esc）\n",
    "- `send_keys(Keys.ENTER)`：回车键（Enter）\n",
    "- `send_keys(Keys.CONTROL,'a')`：全选（Ctrl+a）\n",
    "- `send_keys(Keys.CONTROL,'c')`：复制（Ctrl+c）\n",
    "- `send_keys(Keys.CONTROL,'x')`：剪切（Ctrl+x）\n",
    "- `send_keys(Keys.CONTROL,'v')`：粘贴（Ctrl+v）\n",
    "- `send_keys(Keys.F1)`：键盘 F1\n",
    "- ……\n",
    "- `send_keys(Keys.F12)`：键盘 F12"
   ]
  },
  {
   "cell_type": "code",
   "execution_count": 27,
   "metadata": {},
   "outputs": [],
   "source": [
    "from selenium import webdriver\n",
    "# 调用 Keys 模块\n",
    "from selenium.webdriver.common.keys import Keys\n",
    "\n",
    "driver = webdriver.Chrome()\n",
    "driver.get(\"http://www.baidu.com\")\n",
    "\n",
    "# 在输入框输入内容\n",
    "driver.find_element(By.ID, \"kw\").send_keys(\"seleniumm\")\n",
    "\n",
    "# 删除多输入的一个 m\n",
    "driver.find_element(By.ID, \"kw\").send_keys(Keys.BACK_SPACE)\n",
    "\n",
    "# 输入空格键+“教程”\n",
    "driver.find_element(By.ID, \"kw\").send_keys(Keys.SPACE)\n",
    "driver.find_element(By.ID, \"kw\").send_keys(\"教程\")\n",
    "\n",
    "# 输入组合键 Ctrl+a，全选输入框内容\n",
    "driver.find_element(By.ID, \"kw\").send_keys(Keys.CONTROL, 'a')\n",
    "\n",
    "# 输入组合键 Ctrl+x，剪切输入框内容\n",
    "driver.find_element(By.ID, \"kw\").send_keys(Keys.CONTROL, 'x')\n",
    "\n",
    "# 输入组合键 Ctrl+v，粘贴内容到输入框\n",
    "driver.find_element(By.ID, \"kw\").send_keys(Keys.CONTROL, 'v')\n",
    "\n",
    "# 用回车键代替单击操作\n",
    "driver.find_element(By.ID, \"su\").send_keys(Keys.ENTER)\n",
    "\n",
    "# driver.quit()"
   ]
  },
  {
   "cell_type": "markdown",
   "metadata": {},
   "source": [
    "## 获得验证信息\n",
    "在进行 Web 自动化测试中，用得最多的几种验证信息是 title、current_url 和 text。\n",
    "- title：用于获取当前页面的标题。\n",
    "- current_url：用于获取当前页面的 URL。\n",
    "- text：用于获取当前页面的文本信息。"
   ]
  },
  {
   "cell_type": "code",
   "execution_count": 32,
   "metadata": {},
   "outputs": [
    {
     "name": "stdout",
     "output_type": "stream",
     "text": [
      "Before search================\n",
      "title:百度一下，你就知道\n",
      "URL:https://www.baidu.com/\n",
      "After search================\n",
      "title:selenium_百度搜索\n",
      "URL:https://www.baidu.com/s?ie=utf-8&f=8&rsv_bp=1&rsv_idx=1&tn=baidu&wd=selenium&fenlei=256&rsv_pq=0x8b85a941000defb5&rsv_t=a094NMTssa8kFVO7vb7WVhBY9o8k%2FcKYliCjkiXyv27TEEAAPMA6jYT0J6c1&rqlang=en&rsv_dl=tb&rsv_enter=0&rsv_sug3=8&rsv_btype=i&inputT=188&rsv_sug4=188\n",
      "result:190\n"
     ]
    }
   ],
   "source": [
    "from time import sleep\n",
    "from selenium import webdriver\n",
    "from selenium.webdriver.support.ui import WebDriverWait\n",
    "from selenium.webdriver.support import expected_conditions as EC\n",
    "\n",
    "driver = webdriver.Chrome()\n",
    "driver.get(\"https://www.baidu.com\")\n",
    "print('Before search================')\n",
    "\n",
    "# 打印当前页面 title\n",
    "title = driver.title\n",
    "print(\"title:\"+ title)\n",
    "\n",
    "# 打印当前页面 URL\n",
    "now_url = driver.current_url\n",
    "print(\"URL:\"+now_url)\n",
    "\n",
    "driver.find_element(By.ID, \"kw\").send_keys(\"selenium\")\n",
    "driver.find_element(By.ID, \"su\").click()\n",
    "sleep(3)\n",
    "print('After search================')\n",
    "\n",
    "# 再次打印当前页面 title\n",
    "title = driver.title\n",
    "print(\"title:\"+title)\n",
    "\n",
    "# 再次打印当前页面 URL\n",
    "now_url = driver.current_url\n",
    "print(\"URL:\"+now_url)\n",
    "\n",
    "# 获取搜索结果条数\n",
    "num = WebDriverWait(driver, 10).until(\n",
    "    EC.presence_of_element_located((By.CSS_SELECTOR, \"#content_left .result\"))\n",
    ")\n",
    "num = num.text\n",
    "print(\"result:\"+str(len(num)))\n",
    "\n",
    "\n",
    "driver.quit()"
   ]
  },
  {
   "cell_type": "markdown",
   "metadata": {},
   "source": [
    "## 设置元素等待\n",
    "- WebDriver 提供了两种类型的元素等待：显式等待和隐式等待(显式等待是等待某个条件成立时才继续执行，而隐式等待是等待某个元素出现时才继续执行。- )\n",
    "\n",
    "1. 显式等待\n",
    "    - `WebDriverWait(driver, timeout, poll_frequency=0.5, ignored_exceptions=None)`:。在设置时间内，默认每隔一段时间检测一次当前页面元素是否存在，如果超过设置时间仍检测不到，则抛出异常。\n",
    "    - WebDriverWait()一般与 until()或 until_not()方法配合使用\n",
    "        - `until(method, message=″)`：调用该方法提供的驱动程序作为一个参数，直到返回值为 True。\n",
    "        `until_not(method, message=″)`：调用该方法提供的驱动程序作为一个参数，直到返回值为 False。\n",
    "\n",
    "2. 隐式等待\n",
    "    - WebDriver 提供的 implicitly_wait()方法可用来实现隐式等待\n",
    "\n",
    "\n",
    "expected_conditions方法\n",
    "方 法| 说 明\n",
    "----|-----\n",
    "title_is| 判断当前页面的标题是否等于预期\n",
    "title_contains| 判断当前页面的标题是否包含预期字符串\n",
    "presence_of_element_located| 判断元素是否被加在 DOM 树里，并不代表该元素一定可见\n",
    "visibility_of_element_located| 判断元素是否可见（可见代表元素非隐藏，并且元素的宽和高都不等于0）\n",
    "visibility_of| 与上一个方法作用相同，上一个方法的参数为定位，该方法接收的参数为定位后的元素\n",
    "presence_of_all_elements_located| 判断是否至少有一个元素存在于 DOM 树中。例如，在页面中有 n 个元素的 class 为“wp”，那么只要有一个元素存在于 DOM 树中就返回 True\n",
    "text_to_be_present_in_element| 判断某个元素中的 text 是否包含预期的字符串\n",
    "text_to_be_present_in_element_value| 判断某个元素的 value 属性是否包含预期的字符串\n",
    "frame_to_be_available_and_switch_to_it| 判断该表单是否可以切换进去，如果可以，返回 True 并且切换进去，否则返回 False\n",
    "invisibility_of_element_located| 判断某个元素是否不在 DOM 树中或不可见\n",
    "element_to_be_clickable| 判断某个元素是否可见并且是可以点击的\n",
    "staleness_of| 等到一个元素从 DOM 树中移除\n",
    "element_to_be_selected| 判断某个元素是否被选中，一般用在下拉列表中\n",
    "element_selection_state_to_be| 判断某个元素的选中状态是否符合预期\n",
    "element_located_selection_state_to_be| 与上一个方法作用相同，只是上一个方法参数为定位后的元素，该方法接收的参数为定位\n",
    "alert_is_present| 判断页面上是否存在 alert\n",
    "\n",
    "\n"
   ]
  },
  {
   "cell_type": "code",
   "execution_count": 1,
   "metadata": {},
   "outputs": [],
   "source": [
    "# 在本例中，通过 as 关键字将 expected_conditions 重命名为 EC，并调用 presence_of_element_located()方法判断元素是否存在\n",
    "\n",
    "from selenium import webdriver\n",
    "from selenium.webdriver.common.by import By\n",
    "from selenium.webdriver.support.ui import WebDriverWait\n",
    "from selenium.webdriver.support import expected_conditions as EC\n",
    "\n",
    "driver = webdriver.Chrome()\n",
    "driver.get(\"http://www.baidu.com\")\n",
    "\n",
    "element = WebDriverWait(driver, 5, 0.5).until(\n",
    "    EC.visibility_of_element_located((By.ID, \"kw\"))\n",
    "    )\n",
    "element.send_keys('selenium')\n",
    "# driver.quit()"
   ]
  },
  {
   "cell_type": "code",
   "execution_count": 4,
   "metadata": {},
   "outputs": [
    {
     "name": "stderr",
     "output_type": "stream",
     "text": [
      "There was an error managing chromedriver (error sending request for url (https://googlechromelabs.github.io/chrome-for-testing/last-known-good-versions-with-downloads.json)); using driver found in the cache\n",
      "There was an error managing chrome; using browser found in the cache\n"
     ]
    },
    {
     "name": "stdout",
     "output_type": "stream",
     "text": [
      "Mon Aug 26 11:19:15 2024\n",
      "time out\n",
      "Mon Aug 26 11:19:25 2024\n"
     ]
    }
   ],
   "source": [
    "# 利用is_displayed()方法自己实现元素显示等待。\n",
    "from time import sleep, ctime\n",
    "from selenium import webdriver\n",
    "\n",
    "driver = webdriver.Chrome()\n",
    "driver.get(\"http://www.baidu.com\")\n",
    "\n",
    "print(ctime())\n",
    "\n",
    "for i in range(10):\n",
    "    try:\n",
    "        el = driver.find_element(By.ID, \"kw22\")\n",
    "        if el.is_displayed():\n",
    "            break\n",
    "    except:\n",
    "        pass\n",
    "    sleep(1)\n",
    "else:\n",
    "    print(\"time out\")\n",
    "print(ctime())\n",
    "\n",
    "# driver.quit()"
   ]
  },
  {
   "cell_type": "code",
   "execution_count": 7,
   "metadata": {},
   "outputs": [
    {
     "name": "stdout",
     "output_type": "stream",
     "text": [
      "Mon Aug 26 11:40:02 2024\n",
      "Message: no such element: Unable to locate element: {\"method\":\"css selector\",\"selector\":\"[id=\"kw22\"]\"}\n",
      "  (Session info: chrome=128.0.6613.84); For documentation on this error, please visit: https://www.selenium.dev/documentation/webdriver/troubleshooting/errors#no-such-element-exception\n",
      "Stacktrace:\n",
      "\tGetHandleVerifier [0x00007FF65EB0B632+29090]\n",
      "\t(No symbol) [0x00007FF65EA7E6E9]\n",
      "\t(No symbol) [0x00007FF65E93B1CA]\n",
      "\t(No symbol) [0x00007FF65E98EFD7]\n",
      "\t(No symbol) [0x00007FF65E98F22C]\n",
      "\t(No symbol) [0x00007FF65E9D97F7]\n",
      "\t(No symbol) [0x00007FF65E9B672F]\n",
      "\t(No symbol) [0x00007FF65E9D65D9]\n",
      "\t(No symbol) [0x00007FF65E9B6493]\n",
      "\t(No symbol) [0x00007FF65E9809B1]\n",
      "\t(No symbol) [0x00007FF65E981B11]\n",
      "\tGetHandleVerifier [0x00007FF65EE2881D+3294093]\n",
      "\tGetHandleVerifier [0x00007FF65EE74403+3604339]\n",
      "\tGetHandleVerifier [0x00007FF65EE6A2C7+3563063]\n",
      "\tGetHandleVerifier [0x00007FF65EBC6F16+797318]\n",
      "\t(No symbol) [0x00007FF65EA8986F]\n",
      "\t(No symbol) [0x00007FF65EA85454]\n",
      "\t(No symbol) [0x00007FF65EA855E0]\n",
      "\t(No symbol) [0x00007FF65EA74A7F]\n",
      "\tBaseThreadInitThunk [0x00007FFA39FA257D+29]\n",
      "\tRtlUserThreadStart [0x00007FFA3B24AF28+40]\n",
      "\n",
      "Mon Aug 26 11:40:12 2024\n"
     ]
    }
   ],
   "source": [
    "from time import ctime\n",
    "from selenium import webdriver\n",
    "from selenium.webdriver.common.by import By\n",
    "from selenium.common.exceptions import NoSuchElementException\n",
    "\n",
    "driver = webdriver.Chrome()\n",
    "\n",
    "# 设置隐式等待为 10s\n",
    "driver.implicitly_wait(10)\n",
    "driver.get(\"http://www.baidu.com\")\n",
    "\n",
    "try:\n",
    "    print(ctime())\n",
    "    driver.find_element(By.ID, \"kw22\").send_keys('selenium')\n",
    "except NoSuchElementException as e:\n",
    "    print(e)\n",
    "finally:\n",
    "    print(ctime())\n",
    "    driver.quit()"
   ]
  },
  {
   "cell_type": "markdown",
   "metadata": {},
   "source": [
    "## 定位一组元素"
   ]
  },
  {
   "cell_type": "code",
   "execution_count": 19,
   "metadata": {},
   "outputs": [
    {
     "name": "stdout",
     "output_type": "stream",
     "text": [
      "5\n",
      "万字攻略全面了解selenium_selenium教程-CSDN博客\n",
      "2024年7月17日 通过selenium打开网页后,我们就能获取到页面的title标题,current_url网页地址,name浏览器名,page_source网页源码等内容。 fromseleniumimportwebdriver fromselenium.webdriver.chr...\n",
      "CSDN博客\n",
      "超详细的selenium使用指南-CSDN博客\n",
      "2024年6月19日 首先需要安装python(推荐3.7+)环境,然后直接用pip installselenium安装依赖包即可。 另外还需要下载浏览器相应的webdriver驱动程序,注意下载的驱动版本一定要...\n",
      "CSDN博客\n",
      "基于python的selenium全网最新超详细教程_python_脚本之家\n",
      "2023年12月27日 常见的鼠标操作有:点击、右击、双击、悬停、拖拽等,对于这些鼠标操作Selenium都封装了相应的操作方法。 说明:在Selenium中将操作鼠标的方法封装在ActionChains类中实例化对象:acti...\n",
      "脚本之家\n",
      "2024最新最全面的Selenium 3.0 + Python自动化测试框架-CS...\n",
      "2024年8月5日 Selenium 2.0 = Selenium 1.0 + WebDriver Selenium 1.0 = Selenium IDE + Selenium Grid + Selenium RC Selenium 3.0做了如下的更新: 1,去掉了RC 2,Selenium3.0只支持Java8版本以上...\n",
      "CSDN博客\n",
      "【爬虫开发】爬虫开发从0到1全知识教程第5篇:Selenium概要...\n",
      "2天前 Selenium概要 本阶段主要学习selenium自动化测试框架在爬虫中的应用,selenium能够大幅降低爬虫的编写难度,但是也同样会大幅降低爬虫的爬取速度。在逼不得已的情况下我们可以使用selenium进行...\n",
      "简书社区\n"
     ]
    }
   ],
   "source": [
    "from time import sleep\n",
    "from selenium import webdriver\n",
    "driver = webdriver.Chrome()\n",
    "from selenium.webdriver.common.by import By\n",
    "\n",
    "driver.get(\"https://www.baidu.cn\")\n",
    "driver.find_element(By.ID, \"kw\").send_keys(\"selenium\")\n",
    "driver.find_element(By.ID, \"su\").click()\n",
    "sleep(2)\n",
    "\n",
    "# 定位一组元素\n",
    "texts = driver.find_elements(By.XPATH, \"//div[@tpl='se_com_default']\")\n",
    "\n",
    "# 计算匹配结果个数\n",
    "print(len(texts))\n",
    "\n",
    "\n",
    "# 循环遍历出每一条搜索结果的标题\n",
    "for t in texts:\n",
    "    print(t.text)\n",
    "\n",
    "driver.quit()"
   ]
  },
  {
   "cell_type": "markdown",
   "metadata": {},
   "source": [
    "## 多表单切换"
   ]
  },
  {
   "cell_type": "code",
   "execution_count": 3,
   "metadata": {},
   "outputs": [],
   "source": [
    "from time import sleep\n",
    "from selenium import webdriver\n",
    "from selenium.webdriver.common.by import By\n",
    "\n",
    "driver = webdriver.Chrome()\n",
    "driver.get(\"http://www.126.com\")\n",
    "sleep(2)\n",
    "\n",
    "login_frame = driver.find_element(By.CSS_SELECTOR, 'iframe[id^=\"x-URS-iframe\"]') \n",
    "driver.switch_to.frame(login_frame)  # 切换到找到的 iframe 中。切换后，所有的元素查找和操作都会在这个 iframe 内进行\n",
    "\n",
    "driver.find_element(By.NAME, \"email\").send_keys(\"abc1546383065\")\n",
    "driver.find_element(By.NAME, \"password\").send_keys(\"Zhao0811=\")\n",
    "driver.find_element(By.ID, \"dologin\").click()\n",
    "driver.switch_to.default_content()  # 切换回主文档（即退出当前 iframe），这会使后续的操作不再局限于 iframe 中。\n",
    "\n",
    "driver.quit()"
   ]
  },
  {
   "cell_type": "markdown",
   "metadata": {},
   "source": [
    "## 多窗口切换"
   ]
  },
  {
   "cell_type": "code",
   "execution_count": 6,
   "metadata": {},
   "outputs": [
    {
     "name": "stdout",
     "output_type": "stream",
     "text": [
      "注册百度账号\n",
      "百度一下，你就知道\n"
     ]
    }
   ],
   "source": [
    "import time\n",
    "from selenium import webdriver\n",
    "\n",
    "driver = webdriver.Chrome()\n",
    "driver.implicitly_wait(10)\n",
    "driver.get(\"http://www.baidu.com\")\n",
    "\n",
    "# 获得百度搜索窗口句柄\n",
    "search_windows = driver.current_window_handle  # current_window_handle：获得当前窗口句柄。  \n",
    "\n",
    "driver.find_element(By.LINK_TEXT, \"登录\").click()\n",
    "driver.find_element(By.LINK_TEXT, \"立即注册\").click()\n",
    "\n",
    "# 获得当前所有打开的窗口句柄\n",
    "all_handles = driver.window_handles  # window_handles：返回所有窗口的句柄到当前会话。\n",
    "\n",
    "# 进入注册窗口\n",
    "for handle in all_handles:\n",
    "    if handle != search_windows:\n",
    "        driver.switch_to.window(handle)  # switch_to.window()：切换到相应的窗口。\n",
    "        print(driver.title)\n",
    "        driver.find_element(By.NAME, \"userName\").send_keys(\"wanan\")\n",
    "        driver.find_element(By.NAME, \"phone\").send_keys(\"13219240858\")\n",
    "        time.sleep(2)\n",
    "        # ……\n",
    "        # 关闭当前窗口\n",
    "        driver.close() \n",
    "\n",
    "# 回到搜索窗口\n",
    "driver.switch_to.window(search_windows)\n",
    "print(driver.title)\n",
    "\n",
    "# driver.quit()"
   ]
  },
  {
   "cell_type": "markdown",
   "metadata": {},
   "source": [
    "## 警告框处理\n",
    "\n",
    "- 百度的设置现在改用悬浮框不是link，暂时不知道悬浮框如何捕获元素，所以就手动跳到'搜索设置'界面了\n",
    "\n",
    "- text：返回 alert、confirm、prompt 中的文字信息。\n",
    "- accept()：接受现有警告框。\n",
    "- dismiss()：解散现有警告框。\n",
    "- send_keys()：在警告框中输入文本（如果可以输入的话）。"
   ]
  },
  {
   "cell_type": "code",
   "execution_count": 9,
   "metadata": {},
   "outputs": [
    {
     "name": "stdout",
     "output_type": "stream",
     "text": [
      "已经记录下您的使用偏好\n"
     ]
    }
   ],
   "source": [
    "# from time import sleep\n",
    "# from selenium import webdriver\n",
    "\n",
    "# driver = webdriver.Chrome()\n",
    "# driver.get('https://www.baidu.com')\n",
    "\n",
    "# # 打开搜索设置\n",
    "# link = driver.find_element(By.LINK_TEXT, \"设置\").click()\n",
    "# driver.find_element(By.LINK_TEXT, \"搜素设置\").click()\n",
    "# sleep(2)\n",
    "\n",
    "# 保存设置\n",
    "driver.find_element(By.CLASS_NAME, \"prefpanelgo\").click()\n",
    "\n",
    "# 获取警告框\n",
    "alert = driver.switch_to.alert\n",
    "\n",
    "# 获取警告框提示信息\n",
    "alert_text = alert.text\n",
    "print(alert_text)\n",
    "\n",
    "# 接取警告框\n",
    "alert.accept()\n",
    "# driver.quit()"
   ]
  },
  {
   "cell_type": "markdown",
   "metadata": {},
   "source": [
    "## 下拉框\n",
    "<font color=\"red\">在百度设置界面没有找到`<select>`标签, 所以下拉框代码没有运行成功</font>\n",
    "\n",
    "WebDriver 提供了 Select 类来处理下拉框。\n",
    "- Select 类：用于定位`<select>`标签。\n",
    "- select_by_value()：通过 value 值定位下拉选项。\n",
    "- select_by_visible_text()：通过 text 值定位下拉选项。\n",
    "- select_by_index()：根据下拉选项的索引进行选择。第一个选项为 0，第二个选项为 1"
   ]
  },
  {
   "cell_type": "code",
   "execution_count": null,
   "metadata": {},
   "outputs": [],
   "source": [
    "from time import sleep\n",
    "from selenium import webdriver\n",
    "from selenium.webdriver.support.select import Select\n",
    "\n",
    "driver = webdriver.Chrome()\n",
    "driver.get('https://www.baidu.com')\n",
    "\n",
    "# 打开搜索设置\n",
    "driver.find_element(By.LINK_TEXT, \"设置\").click()\n",
    "driver.find_element(By.LINK_TEXT, \"搜索设置\").click()\n",
    "sleep(2)\n",
    "\n",
    "# 搜索结果显示条数\n",
    "sel = driver.find_element(By.XPATH, \"//select[@id='nr']\")\n",
    "\n",
    "# value=\"20\"\n",
    "Select(sel).select_by_value('20')\n",
    "sleep(2)\n",
    "\n",
    "# <option>每页显示 50 条</option>\n",
    "Select(sel).select_by_visible_text(\"每页显示 50 条\")\n",
    "sleep(2)\n",
    "\n",
    "# 根据下拉选项的索引进行选择\n",
    "Select(sel).select_by_index(0)\n",
    "sleep(2)\n",
    "\n",
    "driver.quit()"
   ]
  },
  {
   "cell_type": "markdown",
   "metadata": {},
   "source": [
    "## 上传文件\n",
    "- WebDriver 并没有提供专门用于上传的方法，实现文件上传的关键在于思路。\n",
    "- 在 Web 页面中，文件上传操作一般需要单击“上传”按钮后打开本地 Windows 窗口，从窗口中选择本地文件进行上传(**WebDriver 无法操作 Windows 控件**)，\n",
    "- 在 Web 页面中一般通过以下两种方式实现文件上传。\n",
    "    - 普通上传：将本地文件路径作为一个值放在 input 标签中，通过 form 表单将这个值提交给服务器。(对于通过 input 标签实现的上传功能，可以将其看作一个输入框，即通过 send_keys()指定本地文件路径的方式实现文件上传)\n",
    "    - 插件上传：一般是指基于 Flash、JavaScript 或 Ajax 等技术实现的上传功能。"
   ]
  },
  {
   "cell_type": "code",
   "execution_count": 30,
   "metadata": {},
   "outputs": [
    {
     "name": "stdout",
     "output_type": "stream",
     "text": [
      "111\n"
     ]
    }
   ],
   "source": [
    "import os\n",
    "from selenium import webdriver\n",
    "from selenium.webdriver.common.by import By\n",
    "from selenium.webdriver.support.ui import WebDriverWait\n",
    "from selenium.webdriver.support import expected_conditions as EC\n",
    "\n",
    "file_path = os.path.abspath(r\"C:\\Users\\Administrator\\Downloads\")\n",
    "\n",
    "driver = webdriver.Edge()\n",
    "driver.get('http://zcloud.zhizhuwang.online')\n",
    "\n",
    "# 使用显示等待查找搜索框\n",
    "try:\n",
    "    # 账号\n",
    "    search_box = WebDriverWait(driver, 60).until(\n",
    "        EC.presence_of_element_located((By.ID, \"account\"))\n",
    "    )\n",
    "    search_box.send_keys(\"test\")\n",
    "\n",
    "    # 密码\n",
    "    search_box = WebDriverWait(driver, 60).until(\n",
    "        EC.presence_of_element_located((By.ID, \"password\"))\n",
    "    )\n",
    "    search_box.send_keys(\"z123456\")\n",
    "    \n",
    "    # 点击登录\n",
    "    search_button = WebDriverWait(driver, 60).until(\n",
    "        EC.element_to_be_clickable((By.XPATH, \"//button[@type='submit']\"))\n",
    "    )\n",
    "    search_button.click()\n",
    "    \n",
    "finally:\n",
    "    # driver.quit()\n",
    "    print(\"登录成功\")    \n",
    "\n",
    "# 查找搜索按钮并点击\n",
    "search_button = WebDriverWait(driver, 60).until(\n",
    "    EC.element_to_be_clickable((By.XPATH, \"//span[contains(text(),'管片里程匹配')]\"))\n",
    ")\n",
    "search_button.click()\n",
    "\n",
    "# # 将 WebDriver 导航到一个本地 HTML 文件\n",
    "# upload_page = 'file:///' + file_path + 'upfile.html'\n",
    "# driver.get(upload_page)\n",
    "\n",
    "# 定位上传按钮，添加本地文件\n",
    "driversel = WebDriverWait(driver, 60).until(\n",
    "    EC.element_to_be_clickable((By.XPATH, \"//button[@class='ivu-btn ivu-btn-default btn-km left-30']/span\"))\n",
    ")\n",
    "driversel.click()\n",
    "driver.find_element(By.CLASS_NAME, \"z-upload-input\").send_keys(file_path + '\\\\1.xlsx')"
   ]
  },
  {
   "cell_type": "code",
   "execution_count": 22,
   "metadata": {},
   "outputs": [],
   "source": [
    "\n",
    "\n"
   ]
  }
 ],
 "metadata": {
  "kernelspec": {
   "display_name": "Python 3",
   "language": "python",
   "name": "python3"
  },
  "language_info": {
   "codemirror_mode": {
    "name": "ipython",
    "version": 3
   },
   "file_extension": ".py",
   "mimetype": "text/x-python",
   "name": "python",
   "nbconvert_exporter": "python",
   "pygments_lexer": "ipython3",
   "version": "3.12.3"
  }
 },
 "nbformat": 4,
 "nbformat_minor": 2
}
